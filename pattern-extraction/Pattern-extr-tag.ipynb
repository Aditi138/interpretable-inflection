{
 "cells": [
  {
   "cell_type": "code",
   "execution_count": 1,
   "metadata": {},
   "outputs": [],
   "source": [
    "import torch\n",
    "import matplotlib.pyplot as plt\n",
    "%matplotlib inline\n",
    "import seaborn as sns\n",
    "from patterns import data2patterns, msd2pattern, print_frequent_patterns, msd2decision\n",
    "from patterns import scaled_al_heatmap, unscaled_al_ggh_heatmap, scaled_al_ggh_heatmap"
   ]
  },
  {
   "cell_type": "code",
   "execution_count": 2,
   "metadata": {},
   "outputs": [],
   "source": [
    "# input parameters \n",
    "lang='tagalog'\n",
    "exp_dir='experiments'\n",
    "bpe_n=1000\n",
    "beam_size=1\n",
    "\n",
    "# segmented files\n",
    "bpe_file_dev='{}/{}/bpe{}/dev_segm'.format(exp_dir,lang,bpe_n)\n",
    "bpe_file_train='{}/{}/bpe{}/train_high_segm'.format(exp_dir,lang,bpe_n)\n",
    "bpe_file_test='{}/{}/bpe{}/test_segm'.format(exp_dir,lang,bpe_n)\n",
    "bpe_files = [bpe_file_dev, bpe_file_train, bpe_file_test]\n",
    "\n",
    "# attention files for chED+subwSELF-ATT model\n",
    "attn_file_dev='{}/{}/bpe{}/gate-sparse-enc-static-head-models/predict/{}-dev.pred.{}.attn'.format(\n",
    "    exp_dir,lang,bpe_n,lang,beam_size)\n",
    "attn_file_train='{}/{}/bpe{}/gate-sparse-enc-static-head-models/predict/{}-train-high.pred.{}.attn'.format(\n",
    "    exp_dir,lang,bpe_n,lang,beam_size)\n",
    "attn_file_test='{}/{}/bpe{}/gate-sparse-enc-static-head-models/predict/{}-test.pred.{}.attn'.format(\n",
    "    exp_dir,lang,bpe_n,lang,beam_size)\n",
    "attn_files = [attn_file_dev, attn_file_train, attn_file_test]\n",
    "\n",
    "# gold files\n",
    "gold_file_dev='{}/{}/{}-dev'.format(exp_dir,lang,lang)\n",
    "gold_file_train='{}/{}/{}-train-high'.format(exp_dir,lang,lang)\n",
    "gold_file_test='{}/{}/{}-test'.format(exp_dir,lang,lang)\n",
    "gold_files = [gold_file_dev, gold_file_train, gold_file_test]"
   ]
  },
  {
   "cell_type": "markdown",
   "metadata": {},
   "source": [
    "### Pattern extraction"
   ]
  },
  {
   "cell_type": "markdown",
   "metadata": {},
   "source": [
    "####  Transformation Patterns"
   ]
  },
  {
   "cell_type": "code",
   "execution_count": 3,
   "metadata": {
    "scrolled": false
   },
   "outputs": [
    {
     "name": "stdout",
     "output_type": "stream",
     "text": [
      "MSD V;IPFV;AGFOC, frequency: 377, accuracy: 0.864721\n",
      "\n",
      "frequency: 142, coverage: 0.376657824933687, accuracy: 0.9014084507042254\n",
      "unmasekd_pattern:  c1;2 c3;4 c5 --> n f2_0 c1 c3 c2 c4 c5\n",
      "frequency by pattern:  {'c1;2 c3;4 c5 --> f1_0 f2_0 c1 c3 c2 c4 c5': 142}\n",
      "alignments and masks for the most frequent masked pattern:\n",
      "\n",
      "___mask2src_after_unmasking: c1;2: all of length 1; c3;4: [a:82, u:34, i:23, e:3]; c5: average length of 3.3\n",
      "\n",
      "___trg2mask_after_unmasking (support 1): n:f1_0\n",
      "\n",
      "___mask2trg_after_unmasking: f2_0: [ag:131, a:8, ang:1, an:2]; c1: all of length 1; c3: [a:82, u:34, i:23, e:3]; c2: all of length 1; c4: [a:82, u:34, i:23, e:3]; c5: average length of 3.3\n",
      "\n",
      "IDs: 35 : paalam : nagpapaalam, 92 : damdám : nagdadamdám(gold: nagdaramdám), 93 : pugot : nagpupugot, 121 : kinig : nakikinig, 131 : timbang : nagtitimbang, 167 : yabang : nagyayabang, 197 : bisita : nagbibisita(gold: bumibista), 231 : mahal : nagmamahal, 235 : hagod : naghahagod, 262 : laga : naglalaga, 268 : garahe : naggagarahe, 324 : suot : nagsusuot, 328 : tanim : nagtatanim, 329 : handá' : naghahandá', 340 : sumbong : nagsusumbong, 368 : bihis : nagbibihis, 408 : bigay : nagbibigay, 435 : sabi : nagsasabi, 455 : sanlá' : nagsasanlá', 461 : tago' : nagtatago', 479 : palit : nagpapalit, 487 : lakad : naglalakad, 496 : makinilya : nagmamakinilya, 499 : sukat : nagsusukat, 506 : punó' : nagpupunó', 508 : punas : nagpupunas, 510 : tahi' : nagtatahi', 512 : yari' : nangyayari', 541 : pansin : napapansin, 551 : laró' : naglalaró', 581 : takip : nagtatakip, 597 : basag : nagbabasag, 620 : bantay : nagbabantay, 635 : dalá : nagdadalá, 639 : siesta : nagsisiesta, 671 : sunog : nagsusunog, 689 : sulat : nagsusulat, 690 : tanggal : nagtatanggal, 732 : kamay : nagkakamay, 853 : bawal : nagbabawal, 865 : libang : naglilibang, 920 : wagi' : nagwawagi', 925 : biro' : nagbibiro', 929 : higpit : naghihigpit, 956 : habla : naghahabla, 972 : patuloy : nagpapatuloy, 974 : turo' : nagtuturo', 981 : hulog : naghuhulog, 984 : lutó' : naglulutó', 994 : gupit : naggugupit, 1000 : lagay : naglalagay, 1020 : sayá : nagsasayá, 1033 : hugas : naghuhugas, 1059 : pinta : nagpipinta, 1065 : dala : nagdadala, 1081 : hatid : naghahatid, 1090 : bakasyon : nagbabakasyon, 1101 : hikab : naghihikab, 1106 : bagsak : nagbabagsak, 1161 : pasan : nagpapasan, 1171 : hila : naghihila, 1180 : suklay : nagsusuklay, 1195 : burá : nagbuburá, 1210 : pasa : nagpapasa(gold: pumápasa), 1218 : wasak : nagwawasak, 1223 : dasal : nagdadasal, 1226 : tanong : nagtatanong, 1228 : benta : nagbebenta, 1269 : patay : nagpapatay(gold: namamatay), 1275 : kabit : nagkakabit, 1301 : gayat : naggagayat, 1309 : pasok : nagpapasok, 1312 : bayad : nagbabayad, 1320 : hubad : naghuhubad(gold: nahuhubad), 1349 : sulat : nagsusulat(gold: sumusulat), 1365 : tulog : natutulog, 1366 : saká : nagsasaká, 1372 : gupit : naggugupit(gold: nagpapagupit), 1380 : patay : nagpapatay, 1386 : surí' : nagsusurí', 1409 : hatíd : naghahatíd, 1422 : pasok : nagpapasok(gold: pumapasok), 1445 : hiwa' : naghihiwa', 1450 : linlang : nanlilinlang, 1502 : hatí' : naghahatí', 1512 : katay : nagkakatay, 1533 : bukas : nagbubukas, 1534 : wala' : nawawala', 1560 : taka : nagtataka, 1566 : daya' : nandadaya', 1620 : hubad : naghuhubad, 1632 : lakbay : naglalakbay, 1668 : maneho : nagmamaneho, 1726 : takot : natatakot, 1727 : masahe : nagmamasahe, 1728 : tinda : nagtitinda, 1730 : kipkip : nagkikipkip, 1734 : dilig : nagdidilig, 1772 : tapon : nagtatapon, 1812 : sibak : nagsisibak, 1829 : sayá : nagsasayá(gold: sumasayá), 1841 : pasa : nagpapasa, 1842 : sunong : nagsusunong, 1850 : walá' : nawawalá', 1856 : sugal : nagsusugal, 1857 : buhos : nagbubuhos, 1863 : labá : naglalabá, 1878 : sundó' : nagsusundó', 1927 : sara : nagsasara, 2001 : nakaw : nagnanakaw, 2029 : suri' : nagsusuri', 2054 : walis : nagwawalis, 2067 : handá' : naghahandá'(gold: humahandá'), 2070 : guhit : nagguguhit, 2099 : salita' : nagsasalita', 2118 : panalo : napapanalo(gold: nananalo), 2126 : sauli' : nagsasauli', 2127 : tabí : nagtatabí(gold: nagtatabi), 2160 : taguyod : nagtataguyod, 2187 : regalo : nagreregalo, 2197 : hirap : naghihirap, 2207 : tulak : nagtutulak, 2230 : pigil : nagpipigil, 2243 : lungkot : nalulungkot, 2269 : sará : nagsasará, 2292 : taas : nagtataas, 2325 : bitbit : nagbibitbit, 2337 : sulit : nagsusulit, 2356 : subo' : nagsusubo', 2357 : kusot : nagkukusot, 2371 : balot : nagbabalot, 2387 : tayó' : nagtatayó', 2393 : sampay : nagsasampay, 2399 : hintay : naghihintay, 2454 : hulog : naghuhulog(gold: nahuhulog), 2470 : samba : nagsasamba, 2519 : tanan : nagtatanan, 2550 : renta : nagrerenta, 2556 : gibá' : naggigibá', 2559 : pahinga : nagpapahinga, 2567 : kamay : nagkakamay(gold: nagkakamayan), 2576 : balita : nagbabalita\n",
      "\n",
      "frequency: 78, coverage: 0.20689655172413793, accuracy: 0.8589743589743589\n",
      "unmasekd_pattern:  c1 c2;3 c4 --> f1_0 f2_0 c2 c1 c3 c4\n",
      "frequency by pattern:  {'c1 c2;3 c4 --> f1_0 f2_0 c2 c1 c3 c4': 78}\n",
      "alignments and masks for the most frequent masked pattern:\n",
      "\n",
      "___mask2src_after_unmasking: c1: all of length 1; c2;3: [i:24, a:35, u:17, o:2]; c4: average length of 3.1\n",
      "\n",
      "___mask2trg_after_unmasking: f1_0: average length of 1.0; f2_0: [um:71, am:3, k:1, as:1, an:2]; c2: [i:24, a:35, u:17, o:2]; c1: all of length 1; c3: [i:24, a:35, u:17, o:2]; c4: average length of 3.1\n",
      "\n",
      "IDs: 2 : hiram : humihiram, 94 : sali : sumasali, 97 : pirma : pumipirma, 102 : hawak : humahawak, 126 : tawid : tumatawid, 148 : simangot : sumisimangot, 161 : sama : sumasama, 162 : talon : tumatalon, 245 : tanggap : tumatanggap, 264 : balik : bumabalik(gold: bunabalik), 354 : dalo : dumadalo, 369 : pili' : pumipili', 418 : sayaw : sumasayaw, 493 : sulong : sumusulong, 538 : tanggi : tamatanggi, 540 : lipat : lumilipat, 545 : lubog : lumulubog, 546 : tingin : tumitingin, 614 : labag : lumalabag, 682 : sipol : sumisipol, 683 : bilis : bumibilis, 692 : hanap : humahanap, 725 : layó' : lumalayó', 815 : lipad : lumilipad, 821 : linis : lumilinis, 876 : balik : bumabalik(gold: nagbabalik), 934 : kuha' : kumukuha'(gold: nangunguha'), 966 : labas : lumalabas(gold: naglalabas), 1022 : huli : humuhuli, 1026 : samá' : sumasamá', 1028 : layas : lumalayas, 1041 : labas : lumalabas, 1061 : tahol : tumatahol, 1062 : ligaw : lumiligaw, 1063 : gulong : gumugulong, 1131 : kanta : kumakanta, 1134 : huni : humuhuni, 1150 : puntá : pumupuntá, 1196 : kain : kumakain, 1213 : lapit : lumalapit, 1311 : lunok : lumulunok, 1344 : kuhá' : kumukuhá', 1376 : laki : lumalaki, 1406 : kamit : nakakamit, 1428 : lipat : lumilipat(gold: naglilipat), 1470 : yakap : yumayakap, 1472 : silip : sumisilip, 1540 : kagat : kumakagat, 1546 : kuha' : kumukuha', 1547 : tugtog : tumutugtog, 1559 : suklam : nasusuklam, 1630 : hindí' : humihindí', 1649 : kopya : kumokopya, 1660 : nood : nanonood, 1663 : laki : lumalaki(gold: nagpapalaki), 1681 : laban : lumalaban, 1735 : lusob : lumulusob, 1744 : hinga : humihinga, 1757 : tawa : tumatawa, 1779 : higa' : humihiga', 1805 : hinto' : humihinto', 1967 : kuha : kumukuha, 1977 : limot : lumilimot, 1980 : linis : lumilinis(gold: naglilinis), 1994 : tawag : tumatawag, 2024 : parada : pumaparada, 2051 : mangha' : namamangha', 2084 : liban : lumiliban, 2145 : kain : kumakain(gold: nagpapakain), 2161 : tira : tumitira, 2173 : muhí' : namumuhí', 2190 : hingí' : humihingí'(gold: humihingí), 2362 : niwala : naniniwala, 2369 : limot : lumilimot(gold: nakakalimot), 2390 : punta : pumupunta, 2458 : subok : sumusubok, 2506 : dama : dumadama(gold: dumarama), 2521 : takbo : tumatakbo\n",
      "\n",
      "frequency: 36, coverage: 0.09549071618037135, accuracy: 0.8055555555555556\n",
      "unmasekd_pattern:  c1;2 c3 --> f2_0 c1 c2 c3\n",
      "frequency by pattern:  {'c1;2 c3 --> f2_0 c1 c2 c3': 36}\n",
      "alignments and masks for the most frequent masked pattern:\n",
      "\n",
      "___mask2src_after_unmasking: c1;2: [u:11, a:12, i:11, o:2]; c3: average length of 3.4\n",
      "\n",
      "___mask2trg_after_unmasking: f2_0: [nag-:12, um:23, nang-:1]; c1: [u:11, a:12, i:11, o:2]; c2: [u:11, a:12, i:11, o:2]; c3: average length of 3.4\n",
      "\n",
      "IDs: 87 : utos : nag-uutos, 144 : alís : umaalís, 212 : ipon : umiipon(gold: nag-iipon), 388 : inis : nang-iinis, 662 : utang : umuutang, 711 : upo' : umuupo', 717 : iyak : umiiyak, 752 : abot : umaabot, 857 : upa : umuupa, 1108 : arte : umaarte, 1190 : usog : umuusog, 1249 : ilaw : umiilaw, 1267 : inom : umiinom, 1342 : unlad : umuunlad, 1370 : intindi : umiintindi, 1375 : umpisa : nag-uumpisa, 1719 : abuso : umaabuso, 1722 : abot : umaabot(gold: nag-aabot), 1824 : arkila : umaarkila, 1847 : ayos : nag-aayos, 1886 : ayaw : umaayaw, 1903 : uwí' : nag-uuwí', 2065 : ibig : umiibig, 2073 : ulit : nag-uulit, 2125 : ulit : nag-uulit(gold: umuulit), 2135 : ingat : nag-iingat, 2194 : akit : umaakit(gold: naaakit), 2200 : arúga' : nag-aarúga', 2221 : akusa : nag-aakusa(gold: nang-aakusa), 2352 : isip : nag-iisip, 2420 : oo : umooo, 2429 : ingay : nag-iingay, 2473 : awit : umaawit, 2490 : init : nag-iinit, 2503 : usog : umuusog(gold: nag-uusog), 2579 : okupá : umookupá(gold: nag-ookupá)\n",
      "\n",
      "frequency: 17, coverage: 0.04509283819628647, accuracy: 0.8823529411764706\n",
      "unmasekd_pattern:  c1;2 {c3g1} c4 --> n f2_0 c1 g1 c2 c3 c4\n",
      "frequency by pattern:  {'c1;2 {c3g1} c4 --> f1_0 f2_0 c1 g1 c2 c3 c4': 17}\n",
      "alignments and masks for the most frequent masked pattern:\n",
      "\n",
      "___mask2src_after_unmasking: c1;2: all of length 1; {c3g1}: [ú:4, á:8, í:3, l:1, r:1]; c4: average length of 2.9\n",
      "\n",
      "___trg2mask_after_unmasking (support 1): n:f1_0\n",
      "\n",
      "___mask2trg_after_unmasking: f2_0: [ag:13, a:4]; c1: all of length 1; g1: [u:4, a:10, i:3]; c2: all of length 1; c3: [ú:4, á:8, í:3, l:1, r:1]; c4: average length of 2.9\n",
      "\n",
      "IDs: 0 : búkas : nagbubúkas(gold: bumubúkas), 170 : búsog : nabubúsog, 476 : pátay : nagpapátay(gold: pumapátay), 515 : kíta : nagkikíta, 580 : plantsa : nagpaplantsa, 601 : lágay : naglalágay, 647 : táas : nagtatáas, 652 : bába' : nagbabába', 797 : tápos : nagtatápos, 835 : púno' : napupúno', 1109 : másid : nagmamásid, 1492 : trabaho : nagtatrabaho, 1795 : pátay : nagpapátay, 1922 : hílo : nahihílo, 2043 : sáma : nagsasáma, 2169 : líto : nalilíto, 2294 : búkas : nagbubúkas\n",
      "\n",
      "frequency: 12, coverage: 0.03183023872679045, accuracy: 0.9166666666666666\n",
      "unmasekd_pattern:  c1 {c2g1} c3 --> f1_0 um g1 c1 c2 c3\n",
      "frequency by pattern:  {'c1 {c2g1} c3 --> f1_0 f2_0 g1 c1 c2 c3': 12}\n",
      "alignments and masks for the most frequent masked pattern:\n",
      "\n",
      "___mask2src_after_unmasking: c1: all of length 1; {c2g1}: [ú:4, á:7, í:1]; c3: average length of 3.2\n",
      "\n",
      "___trg2mask_after_unmasking (support 1): um:f2_0\n",
      "\n",
      "___mask2trg_after_unmasking: f1_0: all of length 1; g1: [u:4, a:7, i:1]; c1: all of length 1; c2: [ú:4, á:7, í:1]; c3: average length of 3.2\n",
      "\n",
      "IDs: 38 : pútol : pumupútol, 42 : súnod : sumusúnod, 128 : púnit : pumupúnit, 185 : súnod : sumusúnod(gold: sumúsunod), 394 : tángo' : tumatángo', 511 : hárap : humahárap, 1125 : gáwa' : gumagáwa', 1362 : lábas : lumalábas, 1685 : gáling : gumagáling, 1750 : táyo' : tumatáyo', 2052 : hálik : humahálik, 2296 : lípad : lumilípad\n",
      "\n",
      "frequency: 12, coverage: 0.03183023872679045, accuracy: 0.9166666666666666\n",
      "unmasekd_pattern:  c1;2 c3;4 c5 --> c1 um c3 c2 c4 c5\n",
      "frequency by pattern:  {'c1;2 c3;4 c5 --> c1 f2_0 c3 c2 c4 c5': 12}\n",
      "alignments and masks for the most frequent masked pattern:\n",
      "\n",
      "___mask2src_after_unmasking: c1;2: all of length 1; c3;4: [i:3, a:9]; c5: average length of 3.6\n",
      "\n",
      "___trg2mask_after_unmasking (support 1): um:f2_0\n",
      "\n",
      "___mask2trg_after_unmasking: c1: all of length 1; c3: [i:3, a:9]; c2: all of length 1; c4: [i:3, a:9]; c5: average length of 3.6\n",
      "\n",
      "IDs: 68 : bilang : bumibilang, 135 : gamot : gumagamot(gold: naggagamot), 239 : dalaw : dumadalaw, 779 : gamot : gumagamot, 968 : tahimik : tumatahimik, 1095 : palakpak : pumapalakpak, 1211 : gawá' : gumagawá', 1310 : bili : bumibili, 1420 : gamit : gumagamit, 1652 : bangon : bumabangon, 1987 : dighay : dumidighay, 2375 : sagot : sumasagot\n",
      "\n",
      "frequency: 8, coverage: 0.021220159151193633, accuracy: 1.0\n",
      "unmasekd_pattern:  c1 c2;3 c4 --> f0_0 um c2 c1 c3 c4\n",
      "frequency by pattern:  {'c1 c2;3 c4 --> f0_0 f2_0 c2 c1 c3 c4': 8}\n",
      "alignments and masks for the most frequent masked pattern:\n",
      "\n",
      "___mask2src_after_unmasking: c1: [b:6, t:2]; c2;3: [o:1, u:5, a:2]; c4: average length of 3.0\n",
      "\n",
      "___trg2mask_after_unmasking (support 1): um:f2_0\n",
      "\n",
      "___mask2trg_after_unmasking: f0_0: [b:6, t:2]; c2: [o:1, u:5, a:2]; c1: [b:6, t:2]; c3: [o:1, u:5, a:2]; c4: average length of 3.0\n",
      "\n",
      "IDs: 281 : boto : bumoboto, 325 : tulong : tumutulong, 376 : babá' : bumababá', 1127 : bulong : bumubulong, 1317 : bati' : bumabati', 1476 : buti : bumubuti, 1479 : tuloy : tumutuloy, 2474 : buhay : bumubuhay\n",
      "\n",
      "frequency: 8, coverage: 0.021220159151193633, accuracy: 0.625\n",
      "unmasekd_pattern:  {c1;2g1} c3 --> f2_0 g1 c1 c2 c3\n",
      "frequency by pattern:  {'{c1;2g1} c3 --> f2_0 g1 c1 c2 c3': 8}\n",
      "alignments and masks for the most frequent masked pattern:\n",
      "\n",
      "___mask2src_after_unmasking: {c1;2g1}: [a:6, i:1, u:1]; c3: [lis:3, kyat:2, mbento:1, kala:1, lat:1]\n",
      "\n",
      "___mask2trg_after_unmasking: f2_0: [nagpa:3, nag:5]; g1: [p:3, -:5]; c1: [a:6, i:1, u:1]; c2: [a:6, i:1, u:1]; c3: [lis:3, kyat:2, mbento:1, kala:1, lat:1]\n",
      "\n",
      "IDs: 306 : alis : nagpapaalis(gold: nag-aalis), 477 : akyat : nag-aakyat, 1052 : alis : nagpapaalis(gold: umaalis), 1970 : alis : nagpapaalis, 2104 : akyat : nag-aakyat(gold: umaakyat), 2184 : imbento : nag-iimbento, 2245 : akala : nag-aakala, 2293 : ulat : nag-uulat\n",
      "\n",
      "frequency: 6, coverage: 0.015915119363395226, accuracy: 0.6666666666666666\n",
      "unmasekd_pattern:  g1 c1;2 c3 --> n f2_0 c1 g1 c2 c3\n",
      "frequency by pattern:  {'g1 c1;2 c3 --> f1_0 f2_0 c1 g1 c2 c3': 6}\n",
      "alignments and masks for the most frequent masked pattern:\n",
      "\n",
      "___mask2src_after_unmasking: g1: [s:4, p:2]; c1;2: [u:2, i:3, a:1]; c3: [ntok:1, kpok:1, rá':3, syal:1]\n",
      "\n",
      "___trg2mask_after_unmasking (support 1): n:f1_0\n",
      "\n",
      "___mask2trg_after_unmasking: f2_0: [an:4, am:2]; c1: [u:2, i:3, a:1]; g1: [n:4, m:2]; c2: [u:2, i:3, a:1]; c3: [ntok:1, kpok:1, rá':3, syal:1]\n",
      "\n",
      "IDs: 513 : suntok : nanununtok, 691 : pukpok : namumukpok, 887 : sirá' : naninirá'(gold: sumisirá'), 1319 : sirá' : naninirá', 1572 : pasyal : namamasyal, 1848 : sirá' : naninirá'(gold: nagsisirá')\n",
      "\n",
      "frequency: 6, coverage: 0.015915119363395226, accuracy: 1.0\n",
      "unmasekd_pattern:  s c2;3 c4 --> sum c2 s c3 c4\n",
      "frequency by pattern:  {'c1 c2;3 c4 --> f2_0 c2 c1 c3 c4': 6}\n",
      "alignments and masks for the most frequent masked pattern:\n",
      "\n",
      "___src2mask_after_unmasking (support 1): s:c1\n",
      "\n",
      "___mask2src_after_unmasking: c2;3: [a:2, u:3, e:1]; c4: average length of 2.8\n",
      "\n",
      "___trg2mask_after_unmasking (support 1): sum:f2_0, s:c1\n",
      "\n",
      "___mask2trg_after_unmasking: c2: [a:2, u:3, e:1]; c3: [a:2, u:3, e:1]; c4: average length of 2.8\n",
      "\n",
      "IDs: 948 : sakay : sumasakay, 1014 : suway : sumusuway, 1094 : sukó' : sumusukó', 1116 : saló : sumasaló, 1273 : senyas : sumesenyas, 1367 : suót : sumusuót\n",
      "\n",
      "frequency: 3, coverage: 0.007957559681697613, accuracy: 1.0\n",
      "unmasekd_pattern:  a c3 --> n ag - a a c3\n",
      "frequency by pattern:  {'{c1;2g1} c3 --> f1_0 f2_0 g1 c1 c2 c3': 3}\n",
      "alignments and masks for the most frequent masked pattern:\n",
      "\n",
      "___src2mask_after_unmasking (support 1): a:{c1;2g1}\n",
      "\n",
      "___mask2src_after_unmasking: c3: average length of 4.0\n",
      "\n",
      "___trg2mask_after_unmasking (support 1): n:f1_0, ag:f2_0, -:g1, a:c2\n",
      "\n",
      "___mask2trg_after_unmasking: c3: average length of 4.0\n",
      "\n",
      "IDs: 57 : alaga' : nag-aalaga', 248 : alaga : nag-aalaga, 1962 : aral : nag-aaral\n",
      "\n",
      "frequency: 3, coverage: 0.007957559681697613, accuracy: 0.6666666666666666\n",
      "unmasekd_pattern:  {c1g1;2} a c4 --> n ag p a p a c1 a c4\n",
      "frequency by pattern:  {'{c1g1;2} c2;3 c4 --> f1_0 f2_0 g1 f2_1 g2 c2 c1 c3 c4': 3}\n",
      "alignments and masks for the most frequent masked pattern:\n",
      "\n",
      "___src2mask_after_unmasking (support 1): a:c2;3\n",
      "\n",
      "___mask2src_after_unmasking: {c1g1;2}: [g:2, k:1]; c4: [nda:2, sal:1]\n",
      "\n",
      "___trg2mask_after_unmasking (support 1): n:f1_0, ag:f2_0, p:g2, a:c3\n",
      "\n",
      "___mask2trg_after_unmasking: c1: [g:2, k:1]; c4: [nda:2, sal:1]\n",
      "\n",
      "IDs: 576 : ganda : nagpapaganda, 935 : ganda : nagpapaganda(gold: gumaganda), 1027 : kasal : nagpapakasal\n",
      "\n",
      "frequency: 2, coverage: 0.005305039787798408, accuracy: 0.5\n",
      "unmasekd_pattern:  k it a --> n ag p a p a k it a\n",
      "frequency by pattern:  {'{c1g1;2} c2 c3;4 --> f1_0 f2_0 g1 f2_1 g2 c3 c1 c2 c4': 2}\n",
      "alignments and masks for the most frequent masked pattern:\n",
      "\n",
      "___src2mask_after_unmasking (support 1): k:{c1g1;2}, it:c2, a:c3;4\n",
      "\n",
      "___trg2mask_after_unmasking (support 1): n:f1_0, ag:f2_0, p:g2, a:c4, k:c1, it:c2\n",
      "\n",
      "IDs: 123 : kita : nagpapakita, 565 : kita : nagpapakita(gold: nakakakita)\n",
      "\n",
      "frequency: 2, coverage: 0.005305039787798408, accuracy: 0.5\n",
      "unmasekd_pattern:  s á k i t --> n a s a s á k ta n\n",
      "frequency by pattern:  {'c1;2 {c3g1} c4 g2;2 g3 --> f1_0 f2_0 c1 g1 c2 c3 c4 g2 g3': 2}\n",
      "alignments and masks for the most frequent masked pattern:\n",
      "\n",
      "___src2mask_after_unmasking (support 1): s:c1;2, á:{c3g1}, k:c4, i:g2;2, t:g3\n",
      "\n",
      "___trg2mask_after_unmasking (support 1): n:g3, a:g1, s:c2, á:c3, k:c4, ta:g2\n",
      "\n",
      "IDs: 359 : sákit : nasasáktan, 824 : sákit : nasasáktan(gold: sumasákit)\n",
      "\n",
      "frequency: 2, coverage: 0.005305039787798408, accuracy: 0.5\n",
      "unmasekd_pattern:  k i l a la --> n ak i k i p a g -   k i l a la\n",
      "frequency by pattern:  {'{c1;2g1} {c3;4;5g2} {c6g3} c7;8 c9 --> f1_0 f2_0 c3 c1 c4 g3 c7 f2_1 g1 g2 c2 c5 c6 c8 c9': 2}\n",
      "alignments and masks for the most frequent masked pattern:\n",
      "\n",
      "___src2mask_after_unmasking (support 1): k:{c1;2g1}, i:{c3;4;5g2}, l:{c6g3}, a:c7;8, la:c9\n",
      "\n",
      "___trg2mask_after_unmasking (support 1): n:f1_0, ak:f2_0, i:c5, k:c2, p:g3, a:c8, g:f2_1, -:g1,  :g2, l:c6, la:c9\n",
      "\n",
      "IDs: 452 : kilala : nakikipag- kilala(gold: nagpapakilala), 1984 : kilala : nakikipag- kilala\n",
      "\n"
     ]
    }
   ],
   "source": [
    "attn_data = []\n",
    "for f in attn_files:\n",
    "    attn_data.extend(torch.load(f))\n",
    "\n",
    "phen_msd = 'V;IPFV;AGFOC'\n",
    "    \n",
    "pattern_list = data2patterns(attn_data, allow_double_al=False)\n",
    "phen_dict_regr, phen_dict_regr_freq, phen_dict_regr_acc = msd2pattern(phen_msd,\n",
    "                                                                      attn_data,pattern_list,gold_files)\n",
    "\n",
    "print_frequent_patterns(phen_msd, phen_dict_regr, \n",
    "                            phen_dict_regr_freq, phen_dict_regr_acc, n=15)"
   ]
  },
  {
   "cell_type": "markdown",
   "metadata": {},
   "source": [
    "#### Lemma Patterns "
   ]
  },
  {
   "cell_type": "code",
   "execution_count": 4,
   "metadata": {},
   "outputs": [
    {
     "name": "stdout",
     "output_type": "stream",
     "text": [
      "Form start with um\n",
      "class:phen, acc: 0.7857142857142857, freq: 28\n",
      "u*:6\n",
      "(87:u|to|s, 1375:u|mp|isa, 1903:u|w|í|', 2073:u|lit, 2237:u|sa|p, 2503:u|so|g)\n",
      "a*:4\n",
      "(306:a|li|s, 1722:a|bot, 1847:a|yo|s, 2245:a|ka|la)\n",
      "*ga*:2\n",
      "(57:ala|ga|', 637:sin|un|ga|ling)\n",
      "i*:2\n",
      "(1460:i|mb|ita, 2184:i|mb|en|to)\n",
      "ipon:1\n",
      "(212:ip|on)\n",
      "*ga:1\n",
      "(248:ala|ga)\n",
      "á*:1\n",
      "(260:á|bot)\n",
      "aky*:1\n",
      "(477:ak|y|at)\n",
      "ala*:1\n",
      "(549:ala|la)\n",
      "or*:1\n",
      "(909:or|der)\n",
      "ara*:1\n",
      "(1962:ara|l)\n",
      "ingat:1\n",
      "(2135:ing|at)\n",
      "ar*ga*:1\n",
      "(2200:ar|ú|ga|')\n",
      "ulat:1\n",
      "(2293:ulat)\n",
      "isi*:1\n",
      "(2352:isi|p)\n",
      "ingay:1\n",
      "(2429:ing|ay)\n",
      "in*:1\n",
      "(2490:in|it)\n",
      "oku*:1\n",
      "(2579:o|ku|p|á)\n"
     ]
    }
   ],
   "source": [
    "attn_data = []\n",
    "for f in attn_files:\n",
    "    attn_data.extend(torch.load(f))\n",
    "\n",
    "print('Form start with um')\n",
    "partial_trg = 'nag-'\n",
    "partial_msd = 'V;IPFV;AGFOC'\n",
    "\n",
    "phen_dict = msd2decision(partial_msd,partial_trg,attn_data,\n",
    "                         gold_files,bpe_files,pattern='start',\n",
    "                         n_global_heads=1,pull_max=False,ave_threshold=False)\n",
    "for k,v in phen_dict.items():\n",
    "    if k=='phen':\n",
    "        print('class:{}, acc: {}, freq: {}'.format(k,\n",
    "                                               v['acc']/v['freq'], v['freq']))\n",
    "        for p,f in sorted(v['pat'].items(), key=lambda x:x[1]['freq'], reverse=True):\n",
    "            if f['freq']>=1:\n",
    "                print('{}:{}'.format(p,f['freq']))\n",
    "                print('({})'.format(', '.join(f['ex'][:10])))"
   ]
  },
  {
   "cell_type": "markdown",
   "metadata": {},
   "source": [
    "### Attention visualization examples"
   ]
  },
  {
   "cell_type": "markdown",
   "metadata": {},
   "source": [
    "#### chED model"
   ]
  },
  {
   "cell_type": "code",
   "execution_count": 5,
   "metadata": {},
   "outputs": [
    {
     "data": {
      "image/png": "[encoded data removed]",
      "text/plain": [
       "<Figure size 576x576 with 1 Axes>"
      ]
     },
     "metadata": {
      "needs_background": "light"
     },
     "output_type": "display_data"
    },
    {
     "data": {
      "image/png": "[encoded data removed]",
      "text/plain": [
       "<Figure size 576x576 with 1 Axes>"
      ]
     },
     "metadata": {
      "needs_background": "light"
     },
     "output_type": "display_data"
    }
   ],
   "source": [
    "attn_file='{}/{}/ch/gate-sparse-models/predict/{}-dev.pred.{}.attn'.format(exp_dir,lang,lang,beam_size)\n",
    "\n",
    "attn_data=torch.load(attn_file)\n",
    "\n",
    "scaled_al_heatmap(attn_data,3)\n",
    "\n",
    "scaled_al_heatmap(attn_data,15)"
   ]
  },
  {
   "cell_type": "markdown",
   "metadata": {},
   "source": [
    "#### chED+chSELF-ATT"
   ]
  },
  {
   "cell_type": "code",
   "execution_count": 6,
   "metadata": {},
   "outputs": [
    {
     "data": {
      "image/png": "[encoded data removed]",
      "text/plain": [
       "<Figure size 576x576 with 1 Axes>"
      ]
     },
     "metadata": {
      "needs_background": "light"
     },
     "output_type": "display_data"
    },
    {
     "data": {
      "image/png": "[encoded data removed]",
      "text/plain": [
       "<Figure size 576x576 with 1 Axes>"
      ]
     },
     "metadata": {
      "needs_background": "light"
     },
     "output_type": "display_data"
    }
   ],
   "source": [
    "attn_file='{}/{}/ch/gate-sparse-enc-static-head-models/predict/{}-dev.pred.{}.attn'.format(\n",
    "    exp_dir,lang,lang,beam_size)\n",
    "\n",
    "attn_ggh_data=torch.load(attn_file)\n",
    "unscaled_al_ggh_heatmap(attn_ggh_data,3,n_global_heads=1)\n",
    "scaled_al_ggh_heatmap(attn_ggh_data,15,n_global_heads=1)"
   ]
  },
  {
   "cell_type": "markdown",
   "metadata": {},
   "source": [
    "#### chED+subwSELF-ATT"
   ]
  },
  {
   "cell_type": "code",
   "execution_count": 7,
   "metadata": {},
   "outputs": [
    {
     "data": {
      "image/png": "[encoded data removed]",
      "text/plain": [
       "<Figure size 576x576 with 1 Axes>"
      ]
     },
     "metadata": {
      "needs_background": "light"
     },
     "output_type": "display_data"
    },
    {
     "data": {
      "image/png": "[encoded data removed]",
      "text/plain": [
       "<Figure size 216x216 with 1 Axes>"
      ]
     },
     "metadata": {
      "needs_background": "light"
     },
     "output_type": "display_data"
    },
    {
     "data": {
      "image/png": "[encoded data removed]",
      "text/plain": [
       "<Figure size 576x576 with 1 Axes>"
      ]
     },
     "metadata": {
      "needs_background": "light"
     },
     "output_type": "display_data"
    },
    {
     "data": {
      "image/png": "[encoded data removed]",
      "text/plain": [
       "<Figure size 216x216 with 1 Axes>"
      ]
     },
     "metadata": {
      "needs_background": "light"
     },
     "output_type": "display_data"
    }
   ],
   "source": [
    "attn_file='{}/{}/bpe{}/gate-sparse-enc-static-head-models/predict/{}-dev.pred.{}.attn'.format(\n",
    "    exp_dir,lang,bpe_n,lang,beam_size)\n",
    "\n",
    "attn_ggh_bpe_data_comb=torch.load(attn_file)\n",
    "scaled_al_ggh_heatmap(attn_ggh_bpe_data_comb,68, bpe=True, bpe_data=bpe_file_dev, n_global_heads=1)\n",
    "scaled_al_ggh_heatmap(attn_ggh_bpe_data_comb,15, bpe=True, bpe_data=bpe_file_dev, n_global_heads=1)\n"
   ]
  },
  {
   "cell_type": "code",
   "execution_count": null,
   "metadata": {},
   "outputs": [],
   "source": []
  }
 ],
 "metadata": {
  "kernelspec": {
   "display_name": "Python 3",
   "language": "python",
   "name": "python3"
  },
  "language_info": {
   "codemirror_mode": {
    "name": "ipython",
    "version": 3
   },
   "file_extension": ".py",
   "mimetype": "text/x-python",
   "name": "python",
   "nbconvert_exporter": "python",
   "pygments_lexer": "ipython3",
   "version": "3.6.9"
  }
 },
 "nbformat": 4,
 "nbformat_minor": 4
}
