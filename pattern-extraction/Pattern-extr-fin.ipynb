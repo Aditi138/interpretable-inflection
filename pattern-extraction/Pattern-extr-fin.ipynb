{
 "cells": [
  {
   "cell_type": "code",
   "execution_count": 1,
   "metadata": {},
   "outputs": [],
   "source": [
    "import torch\n",
    "import matplotlib.pyplot as plt\n",
    "%matplotlib inline\n",
    "import seaborn as sns\n",
    "from patterns import data2patterns, msd2pattern, print_frequent_patterns, msd2decision\n",
    "from patterns import scaled_al_heatmap, unscaled_al_ggh_heatmap, scaled_al_ggh_heatmap"
   ]
  },
  {
   "cell_type": "code",
   "execution_count": 2,
   "metadata": {},
   "outputs": [],
   "source": [
    "# input parameters \n",
    "lang='finnish'\n",
    "exp_dir='experiments'\n",
    "bpe_n=1000\n",
    "beam_size=1\n",
    "\n",
    "# bpe files\n",
    "bpe_file_dev='{}/{}/bpe{}/dev_segm'.format(exp_dir,lang,bpe_n)\n",
    "bpe_file_train='{}/{}/bpe{}/train_high_segm'.format(exp_dir,lang,bpe_n)\n",
    "bpe_file_test='{}/{}/bpe{}/test_segm'.format(exp_dir,lang,bpe_n)\n",
    "bpe_files = [bpe_file_dev, bpe_file_train, bpe_file_test]\n",
    "\n",
    "# attention files for chED+subwSELF-ATT model\n",
    "attn_file_dev='{}/{}/bpe{}/gate-sparse-enc-static-head-models/predict/{}-dev.pred.{}.attn'.format(\n",
    "    exp_dir,lang,bpe_n,lang,beam_size)\n",
    "attn_file_train='{}/{}/bpe{}/gate-sparse-enc-static-head-models/predict/{}-train-high.pred.{}.attn'.format(\n",
    "    exp_dir,lang,bpe_n,lang,beam_size)\n",
    "attn_file_test='{}/{}/bpe{}/gate-sparse-enc-static-head-models/predict/{}-test.pred.{}.attn'.format(\n",
    "    exp_dir,lang,bpe_n,lang,beam_size)\n",
    "attn_files = [attn_file_dev, attn_file_train, attn_file_test]\n",
    "\n",
    "# gold files\n",
    "gold_file_dev='{}/{}/{}-dev'.format(exp_dir,lang,lang)\n",
    "gold_file_train='{}/{}/{}-train-high'.format(exp_dir,lang,lang)\n",
    "gold_file_test='{}/{}/{}-test'.format(exp_dir,lang,lang)\n",
    "gold_files = [gold_file_dev, gold_file_train, gold_file_test]"
   ]
  },
  {
   "cell_type": "markdown",
   "metadata": {},
   "source": [
    "### Pattern extraction"
   ]
  },
  {
   "cell_type": "markdown",
   "metadata": {},
   "source": [
    "####  Transformation Patterns"
   ]
  },
  {
   "cell_type": "code",
   "execution_count": 3,
   "metadata": {
    "scrolled": false
   },
   "outputs": [
    {
     "name": "stdout",
     "output_type": "stream",
     "text": [
      "MSD V;ACT;PRS;POS;IMP;3;PL, frequency: 46, accuracy: 0.978261\n",
      "\n",
      "frequency: 23, coverage: 0.5, accuracy: 1.0\n",
      "unmasekd_pattern:  c1 a --> c1 k oo t\n",
      "frequency by pattern:  {'c1 a --> c1 f5_0 f4_0 f6_0': 23}\n",
      "alignments and masks for the most frequent masked pattern:\n",
      "\n",
      "___mask2src_after_unmasking: c1: average length of 7.1\n",
      "\n",
      "___trg2mask_after_unmasking (support 1): k:f5_0, oo:f4_0, t:f6_0\n",
      "\n",
      "___mask2trg_after_unmasking: c1: average length of 7.1\n",
      "\n",
      "IDs: 680 : karsastaa : karsastakoot, 1142 : kuorettua : kuorettukoot, 1233 : purjehtia : purjehtikoot, 3280 : ylikorostaa : ylikorostakoot, 3943 : hahmottaa : hahmottakoot, 4501 : harsia : harsikoot, 4738 : aktuaalistaa : aktuaalistakoot, 5259 : tehostaa : tehostakoot, 5547 : jokeltaa : jokeltakoot, 5757 : vaahdottaa : vaahdottakoot, 5869 : kehua : kehukoot, 6349 : parantua : parantukoot, 6656 : herua : herukoot, 7024 : murtaa : murtakoot, 8123 : kuristua : kuristukoot, 8395 : uhkua : uhkukoot, 8734 : noutaa : noutakoot, 9397 : legaalistaa : legaalistakoot, 10007 : riehua : riehukoot, 10651 : nuhrautua : nuhrautukoot, 10989 : hajustaa : hajustakoot, 11768 : huojentaa : huojentakoot, 11798 : kolisuttaa : kolisuttakoot\n",
      "\n",
      "frequency: 7, coverage: 0.15217391304347827, accuracy: 1.0\n",
      "unmasekd_pattern:  c1 ä --> c1 k öö t\n",
      "frequency by pattern:  {'c1 ä --> c1 f5_0 f4_0 f6_0': 7}\n",
      "alignments and masks for the most frequent masked pattern:\n",
      "\n",
      "___mask2src_after_unmasking: c1: average length of 7.4\n",
      "\n",
      "___trg2mask_after_unmasking (support 1): k:f5_0, öö:f4_0, t:f6_0\n",
      "\n",
      "___mask2trg_after_unmasking: c1: average length of 7.4\n",
      "\n",
      "IDs: 2035 : vetelehtiä : vetelehtikööt, 3287 : jänistää : jänistäkööt, 4243 : mylviä : mylvikööt, 5246 : pinnistää : pinnistäkööt, 7896 : hymähtää : hymähtäkööt, 8138 : lyyhistää : lyyhistäkööt, 9177 : selviytyä : selviytykööt\n",
      "\n",
      "frequency: 5, coverage: 0.10869565217391304, accuracy: 1.0\n",
      "unmasekd_pattern:  c1 d a --> c1 k oo t\n",
      "frequency by pattern:  {'c1 d a --> c1 f5_0 f4_0 f6_0': 5}\n",
      "alignments and masks for the most frequent masked pattern:\n",
      "\n",
      "___mask2src_after_unmasking: c1: average length of 8.4\n",
      "\n",
      "___trg2mask_after_unmasking (support 1): k:f5_0, oo:f4_0, t:f6_0\n",
      "\n",
      "___mask2trg_after_unmasking: c1: average length of 8.4\n",
      "\n",
      "IDs: 3448 : promovoida : promovoikoot, 3784 : patentoida : patentoikoot, 6110 : hakkeroida : hakkeroikoot, 7605 : vandalisoida : vandalisoikoot, 9114 : presisoida : presisoikoot\n",
      "\n",
      "frequency: 3, coverage: 0.06521739130434782, accuracy: 1.0\n",
      "unmasekd_pattern:  c1 l a --> c1 koo t\n",
      "frequency by pattern:  {'c1 l a --> c1 f4_0 f6_0': 3}\n",
      "alignments and masks for the most frequent masked pattern:\n",
      "\n",
      "___mask2src_after_unmasking: c1: average length of 7.7\n",
      "\n",
      "___trg2mask_after_unmasking (support 1): koo:f4_0, t:f6_0\n",
      "\n",
      "___mask2trg_after_unmasking: c1: average length of 7.7\n",
      "\n",
      "IDs: 413 : aaltoilla : aaltoilkoot, 6946 : kiekkoilla : kiekkoilkoot, 7126 : kohautella : kohautelkoot\n",
      "\n",
      "frequency: 3, coverage: 0.06521739130434782, accuracy: 1.0\n",
      "unmasekd_pattern:  c1 t a --> c1 t k oo t\n",
      "frequency by pattern:  {'c1 t a --> c1 f6_0 f5_0 f4_0 f6_1': 3}\n",
      "alignments and masks for the most frequent masked pattern:\n",
      "\n",
      "___mask2src_after_unmasking: c1: average length of 5.7\n",
      "\n",
      "___trg2mask_after_unmasking (support 1): t:f6_1, k:f5_0, oo:f4_0\n",
      "\n",
      "___mask2trg_after_unmasking: c1: average length of 5.7\n",
      "\n",
      "IDs: 2104 : skruudata : skruudatkoot, 5084 : paalata : paalatkoot, 6371 : mallata : mallatkoot\n",
      "\n",
      "frequency: 2, coverage: 0.043478260869565216, accuracy: 1.0\n",
      "unmasekd_pattern:  c1 t g1 --> c1 t k g1 f4_0 t\n",
      "frequency by pattern:  {'c1 t g1 --> c1 f6_0 f5_0 g1 f4_0 f6_1': 2}\n",
      "alignments and masks for the most frequent masked pattern:\n",
      "\n",
      "___mask2src_after_unmasking: c1: average length of 4.5; g1: all of length 1\n",
      "\n",
      "___trg2mask_after_unmasking (support 1): t:f6_1, k:f5_0\n",
      "\n",
      "___mask2trg_after_unmasking: c1: average length of 4.5; g1: all of length 1; f4_0: all of length 1\n",
      "\n",
      "IDs: 4090 : öljytä : öljytkööt, 4670 : paksuta : paksutkoot\n",
      "\n",
      "frequency: 1, coverage: 0.021739130434782608, accuracy: 1.0\n",
      "unmasekd_pattern:  käpä t ä --> käpä t k öö t\n",
      "frequency by pattern:  {'c1 t ä --> c1 f6_0 f5_0 f4_0 f6_1': 1}\n",
      "alignments and masks for the most frequent masked pattern:\n",
      "\n",
      "___src2mask_after_unmasking (support 1): käpä:c1\n",
      "\n",
      "___trg2mask_after_unmasking (support 1): käpä:c1, t:f6_1, k:f5_0, öö:f4_0\n",
      "\n",
      "IDs: 2707 : käpätä : käpätkööt\n",
      "\n",
      "frequency: 1, coverage: 0.021739130434782608, accuracy: 1.0\n",
      "unmasekd_pattern:  liipais t a --> liipais koo t\n",
      "frequency by pattern:  {'c1 t a --> c1 f4_0 f6_0': 1}\n",
      "alignments and masks for the most frequent masked pattern:\n",
      "\n",
      "___src2mask_after_unmasking (support 1): liipais:c1\n",
      "\n",
      "___trg2mask_after_unmasking (support 1): liipais:c1, koo:f4_0, t:f6_0\n",
      "\n",
      "IDs: 4815 : liipaista : liipaiskoot\n",
      "\n",
      "frequency: 1, coverage: 0.021739130434782608, accuracy: 0.0\n",
      "unmasekd_pattern:  narah d el l a --> narah t el koo t\n",
      "frequency by pattern:  {'c1 g1 c2 l a --> c1 g1 c2 f4_0 f6_0': 1}\n",
      "alignments and masks for the most frequent masked pattern:\n",
      "\n",
      "___src2mask_after_unmasking (support 1): narah:c1, d:g1, el:c2\n",
      "\n",
      "___trg2mask_after_unmasking (support 1): narah:c1, t:f6_0, el:c2, koo:f4_0\n",
      "\n",
      "IDs: 6017 : narahdella : narahtelkoot(gold: narahdelkoot)\n",
      "\n"
     ]
    }
   ],
   "source": [
    "attn_data = []\n",
    "for f in attn_files:\n",
    "    attn_data.extend(torch.load(f))\n",
    "\n",
    "phen_msd = 'V;ACT;PRS;POS;IMP;3;PL'   \n",
    "    \n",
    "pattern_list = data2patterns(attn_data, allow_double_al=False)\n",
    "phen_dict_regr, phen_dict_regr_freq, phen_dict_regr_acc = msd2pattern(phen_msd,\n",
    "                                                                      attn_data,pattern_list,gold_files)\n",
    "\n",
    "print_frequent_patterns(phen_msd, phen_dict_regr, \n",
    "                            phen_dict_regr_freq, phen_dict_regr_acc, n=15)"
   ]
  },
  {
   "cell_type": "markdown",
   "metadata": {},
   "source": [
    "#### Lemma Patterns "
   ]
  },
  {
   "cell_type": "code",
   "execution_count": 4,
   "metadata": {},
   "outputs": [
    {
     "name": "stdout",
     "output_type": "stream",
     "text": [
      "Form ends with -kott\n",
      "class:phen, acc: 0.972972972972973, freq: 37\n",
      "*aa:8/1.0\n",
      "(680:kar|sa|st|aa, 3280:yli|ko|ro|st|aa, 4738:ak|tu|aal|ist|aa, 5259:teho|st|aa, 5757:va|a|hd|ott|aa, 9397:le|ga|al|ist|aa, 10989:ha|j|ust|aa, 11798:kol|is|utt|aa)\n",
      "*ua:5/1.0\n",
      "(1142:ku|or|ett|ua, 5869:keh|ua, 6656:her|ua, 8123:ku|rist|ua, 10007:ri|eh|ua)\n",
      "*id*:5/1.0\n",
      "(3448:pro|mo|vo|id|a, 3784:pa|ten|to|id|a, 6110:ha|k|ker|o|id|a, 7605:van|d|al|iso|id|a, 9114:pr|es|iso|id|a)\n",
      "*a:4/1.0\n",
      "(1233:pu|r|je|hti|a, 6349:par|an|tu|a, 8395:uh|ku|a, 10651:n|uh|ra|utu|a)\n",
      "*ta:4/1.0\n",
      "(2104:sk|r|uud|a|ta, 4670:pa|ks|u|ta, 5084:pa|ala|ta, 6371:m|al|la|ta)\n",
      "*taa:4/1.0\n",
      "(5547:jo|kel|taa, 7024:mu|r|taa, 8734:nou|taa, 11768:huo|j|en|taa)\n",
      "*illa:2/1.0\n",
      "(413:aal|to|illa, 6946:ki|e|kko|illa)\n",
      "*ella:2/0.5\n",
      "(6017:n|ar|a|hd|ella, 7126:ko|ha|u|t|ella)\n",
      "*ttaa:1/1.0\n",
      "(3943:ha|h|mo|ttaa)\n",
      "*sia:1/1.0\n",
      "(4501:har|sia)\n",
      "*ista:1/1.0\n",
      "(4815:li|i|pa|ista)\n",
      "*aa:8/1.0 (680:kar|sa|st|aa), *ua:5/1.0 (1142:ku|or|ett|ua), *id*:5/1.0 (3448:pro|mo|vo|id|a), *a:4/1.0 (1233:pu|r|je|hti|a), *ta:4/1.0 (2104:sk|r|uud|a|ta), *taa:4/1.0 (5547:jo|kel|taa), *illa:2/1.0 (413:aal|to|illa), *ella:2/0.5 (6017:n|ar|a|hd|ella), *ttaa:1/1.0 (3943:ha|h|mo|ttaa), *sia:1/1.0 (4501:har|sia), *ista:1/1.0 (4815:li|i|pa|ista), \n",
      "\n",
      "\n",
      "Form ends with -kööt\n",
      "class:phen, acc: 1.0, freq: 9\n",
      "*ä:3/1.0\n",
      "(2035:v|et|ele|hti|ä, 4243:m|yl|vi|ä, 9177:sel|vi|y|ty|ä)\n",
      "*ää:3/1.0\n",
      "(3287:jä|n|ist|ää, 5246:p|inn|ist|ää, 8138:l|y|yh|ist|ää)\n",
      "*tä:2/1.0\n",
      "(2707:kä|pä|tä, 4090:ö|l|j|y|tä)\n",
      "*tää:1/1.0\n",
      "(7896:hy|mä|h|tää)\n",
      "*ä:3/1.0 (2035:v|et|ele|hti|ä), *ää:3/1.0 (3287:jä|n|ist|ää), *tä:2/1.0 (2707:kä|pä|tä), *tää:1/1.0 (7896:hy|mä|h|tää), \n"
     ]
    }
   ],
   "source": [
    "attn_data = []\n",
    "for f in attn_files:\n",
    "    attn_data.extend(torch.load(f))\n",
    "\n",
    "print('Form ends with -kott')\n",
    "partial_trg = 'koot'\n",
    "partial_msd = 'V;ACT;PRS;POS;IMP;3;PL'\n",
    "\n",
    "phen_dict = msd2decision(partial_msd,partial_trg,attn_data,\n",
    "                         gold_files,bpe_files,pattern='end',\n",
    "                         n_global_heads=1,pull_max=False,ave_threshold=False)\n",
    "for k,v in phen_dict.items():\n",
    "    if k=='phen':\n",
    "        print('class:{}, acc: {}, freq: {}'.format(k,\n",
    "                                               v['acc']/v['freq'], v['freq']))\n",
    "        str_out=''\n",
    "        for p,f in sorted(v['pat'].items(), key=lambda x:x[1]['freq'], reverse=True):\n",
    "            if f['freq']>=1:\n",
    "                print('{}:{}/{}'.format(p,f['freq'],f['acc']/f['freq']))\n",
    "                print('({})'.format(', '.join(f['ex'][:10])))\n",
    "                str_out+='{}:{}/{} ({}), '.format(p,f['freq'],f['acc']/f['freq'],f['ex'][0])\n",
    "\n",
    "print(str_out)\n",
    "\n",
    "print()\n",
    "print()\n",
    "print('Form ends with -kööt')\n",
    "partial_trg = 'kööt'\n",
    "partial_msd = 'V;ACT;PRS;POS;IMP;3;PL'\n",
    "\n",
    "phen_dict = msd2decision(partial_msd,partial_trg,attn_data,\n",
    "                         gold_files,bpe_files,pattern='end',\n",
    "                         n_global_heads=1,pull_max=False,ave_threshold=False)\n",
    "for k,v in phen_dict.items():\n",
    "    if k=='phen':\n",
    "        print('class:{}, acc: {}, freq: {}'.format(k,\n",
    "                                               v['acc']/v['freq'], v['freq']))\n",
    "        str_out=''\n",
    "        for p,f in sorted(v['pat'].items(), key=lambda x:x[1]['freq'], reverse=True):\n",
    "            if f['freq']>=1:\n",
    "                print('{}:{}/{}'.format(p,f['freq'],f['acc']/f['freq']))\n",
    "                print('({})'.format(', '.join(f['ex'][:10])))\n",
    "                str_out+='{}:{}/{} ({}), '.format(p,f['freq'],f['acc']/f['freq'],f['ex'][0])\n",
    "\n",
    "print(str_out)"
   ]
  },
  {
   "cell_type": "markdown",
   "metadata": {},
   "source": [
    "### Attention visualization examples"
   ]
  },
  {
   "cell_type": "markdown",
   "metadata": {},
   "source": [
    "#### chED model"
   ]
  },
  {
   "cell_type": "code",
   "execution_count": 5,
   "metadata": {},
   "outputs": [
    {
     "data": {
      "image/png": "[encoded data removed]",
      "text/plain": [
       "<Figure size 576x576 with 1 Axes>"
      ]
     },
     "metadata": {
      "needs_background": "light"
     },
     "output_type": "display_data"
    },
    {
     "data": {
      "image/png": "[encoded data removed]",
      "text/plain": [
       "<Figure size 576x576 with 1 Axes>"
      ]
     },
     "metadata": {
      "needs_background": "light"
     },
     "output_type": "display_data"
    }
   ],
   "source": [
    "attn_file='{}/{}/ch/gate-sparse-models/predict/{}-dev.pred.{}.attn'.format(exp_dir,lang,lang,beam_size)\n",
    "\n",
    "attn_data=torch.load(attn_file)\n",
    "\n",
    "scaled_al_heatmap(attn_data,84)\n",
    "\n",
    "scaled_al_heatmap(attn_data,15)"
   ]
  },
  {
   "cell_type": "markdown",
   "metadata": {},
   "source": [
    "#### chED+chSELF-ATT"
   ]
  },
  {
   "cell_type": "code",
   "execution_count": 6,
   "metadata": {},
   "outputs": [
    {
     "data": {
      "image/png": "[encoded data removed]",
      "text/plain": [
       "<Figure size 576x576 with 1 Axes>"
      ]
     },
     "metadata": {
      "needs_background": "light"
     },
     "output_type": "display_data"
    },
    {
     "data": {
      "image/png": "[encoded data removed]",
      "text/plain": [
       "<Figure size 576x576 with 1 Axes>"
      ]
     },
     "metadata": {
      "needs_background": "light"
     },
     "output_type": "display_data"
    }
   ],
   "source": [
    "attn_file='{}/{}/ch/gate-sparse-enc-static-head-models/predict/{}-dev.pred.{}.attn'.format(\n",
    "    exp_dir,lang,lang,beam_size)\n",
    "\n",
    "attn_ggh_data=torch.load(attn_file)\n",
    "unscaled_al_ggh_heatmap(attn_ggh_data,3,n_global_heads=1)\n",
    "scaled_al_ggh_heatmap(attn_ggh_data,15,n_global_heads=1)"
   ]
  },
  {
   "cell_type": "markdown",
   "metadata": {},
   "source": [
    "#### chED+subwSELF-ATT"
   ]
  },
  {
   "cell_type": "code",
   "execution_count": 7,
   "metadata": {},
   "outputs": [
    {
     "data": {
      "image/png": "[encoded data removed]",
      "text/plain": [
       "<Figure size 576x576 with 1 Axes>"
      ]
     },
     "metadata": {
      "needs_background": "light"
     },
     "output_type": "display_data"
    },
    {
     "data": {
      "image/png": "[encoded data removed]",
      "text/plain": [
       "<Figure size 216x216 with 1 Axes>"
      ]
     },
     "metadata": {
      "needs_background": "light"
     },
     "output_type": "display_data"
    },
    {
     "data": {
      "image/png": "[encoded data removed]",
      "text/plain": [
       "<Figure size 576x576 with 1 Axes>"
      ]
     },
     "metadata": {
      "needs_background": "light"
     },
     "output_type": "display_data"
    },
    {
     "data": {
      "image/png": "[encoded data removed]",
      "text/plain": [
       "<Figure size 216x216 with 1 Axes>"
      ]
     },
     "metadata": {
      "needs_background": "light"
     },
     "output_type": "display_data"
    }
   ],
   "source": [
    "attn_file='{}/{}/bpe{}/gate-sparse-enc-static-head-models/predict/{}-dev.pred.{}.attn'.format(\n",
    "    exp_dir,lang,bpe_n,lang,beam_size)\n",
    "\n",
    "attn_ggh_bpe_data_comb=torch.load(attn_file)\n",
    "scaled_al_ggh_heatmap(attn_ggh_bpe_data_comb,68, bpe=True, bpe_data=bpe_file_dev, n_global_heads=1)\n",
    "scaled_al_ggh_heatmap(attn_ggh_bpe_data_comb,15, bpe=True, bpe_data=bpe_file_dev, n_global_heads=1)\n"
   ]
  },
  {
   "cell_type": "code",
   "execution_count": null,
   "metadata": {},
   "outputs": [],
   "source": []
  }
 ],
 "metadata": {
  "kernelspec": {
   "display_name": "Python 3",
   "language": "python",
   "name": "python3"
  },
  "language_info": {
   "codemirror_mode": {
    "name": "ipython",
    "version": 3
   },
   "file_extension": ".py",
   "mimetype": "text/x-python",
   "name": "python",
   "nbconvert_exporter": "python",
   "pygments_lexer": "ipython3",
   "version": "3.6.9"
  }
 },
 "nbformat": 4,
 "nbformat_minor": 4
}
