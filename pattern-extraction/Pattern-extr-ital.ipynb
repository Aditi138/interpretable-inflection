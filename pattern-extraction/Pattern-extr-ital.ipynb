{
 "cells": [
  {
   "cell_type": "code",
   "execution_count": 1,
   "metadata": {},
   "outputs": [],
   "source": [
    "import torch\n",
    "import matplotlib.pyplot as plt\n",
    "%matplotlib inline\n",
    "import seaborn as sns\n",
    "from patterns import data2patterns, msd2pattern, print_frequent_patterns, msd2decision\n",
    "from patterns import scaled_al_heatmap, unscaled_al_ggh_heatmap, scaled_al_ggh_heatmap"
   ]
  },
  {
   "cell_type": "code",
   "execution_count": 2,
   "metadata": {},
   "outputs": [],
   "source": [
    "# input parameters \n",
    "lang='italian'\n",
    "exp_dir='experiments'\n",
    "bpe_n=1000\n",
    "beam_size=1\n",
    "\n",
    "# bpe files\n",
    "bpe_file_dev='{}/{}/bpe{}/dev_segm'.format(exp_dir,lang,bpe_n)\n",
    "bpe_file_train='{}/{}/bpe{}/train_high_segm'.format(exp_dir,lang,bpe_n)\n",
    "bpe_file_test='{}/{}/bpe{}/test_segm'.format(exp_dir,lang,bpe_n)\n",
    "bpe_files = [bpe_file_dev, bpe_file_train, bpe_file_test]\n",
    "\n",
    "# attention files for chED+subwSELF-ATT model\n",
    "attn_file_dev='{}/{}/bpe{}/gate-sparse-enc-static-head-models/predict/{}-dev.pred.{}.attn'.format(\n",
    "    exp_dir,lang,bpe_n,lang,beam_size)\n",
    "attn_file_train='{}/{}/bpe{}/gate-sparse-enc-static-head-models/predict/{}-train-high.pred.{}.attn'.format(\n",
    "    exp_dir,lang,bpe_n,lang,beam_size)\n",
    "attn_file_test='{}/{}/bpe{}/gate-sparse-enc-static-head-models/predict/{}-test.pred.{}.attn'.format(\n",
    "    exp_dir,lang,bpe_n,lang,beam_size)\n",
    "attn_files = [attn_file_dev, attn_file_train, attn_file_test]\n",
    "\n",
    "# gold files\n",
    "gold_file_dev='{}/{}/{}-dev'.format(exp_dir,lang,lang)\n",
    "gold_file_train='{}/{}/{}-train-high'.format(exp_dir,lang,lang)\n",
    "gold_file_test='{}/{}/{}-test'.format(exp_dir,lang,lang)\n",
    "gold_files = [gold_file_dev, gold_file_train, gold_file_test]"
   ]
  },
  {
   "cell_type": "markdown",
   "metadata": {},
   "source": [
    "### Pattern extraction"
   ]
  },
  {
   "cell_type": "markdown",
   "metadata": {},
   "source": [
    "####  Transformation Patterns"
   ]
  },
  {
   "cell_type": "code",
   "execution_count": 3,
   "metadata": {
    "scrolled": false
   },
   "outputs": [
    {
     "name": "stdout",
     "output_type": "stream",
     "text": [
      "MSD V;IND;PRS;3;PL, frequency: 255, accuracy: 0.992157\n",
      "\n",
      "frequency: 149, coverage: 0.5843137254901961, accuracy: 1.0\n",
      "unmasekd_pattern:  c1 a r e --> c1 a n o\n",
      "frequency by pattern:  {'c1 a r e --> c1 f2_0 f3_0 f4_0': 149}\n",
      "alignments and masks for the most frequent masked pattern:\n",
      "\n",
      "___mask2src_after_unmasking: c1: average length of 6.7\n",
      "\n",
      "___trg2mask_after_unmasking (support 1): a:f2_0, n:f3_0, o:f4_0\n",
      "\n",
      "___mask2trg_after_unmasking: c1: average length of 6.7\n",
      "\n",
      "IDs: 184 : zampicare : zampicano, 316 : crogiolare : crogiolano, 490 : impiombare : impiombano, 491 : sibilare : sibilano, 497 : aureolare : aureolano, 510 : crossare : crossano, 653 : uggiolare : uggiolano, 728 : attovagliare : attovagliano, 836 : ragguagliare : ragguagliano, 861 : attivare : attivano, 881 : cauzionare : cauzionano, 933 : fiancheggiare : fiancheggiano, 1107 : oscillare : oscillano, 1127 : sfiorare : sfiorano, 1174 : ombrare : ombrano, 1231 : ideare : ideano, 1246 : sconfinare : sconfinano, 1303 : ridondare : ridondano, 1409 : satollare : satollano, 1528 : inargentare : inargentano, 1665 : avvezzare : avvezzano, 1750 : abbrusciare : abbrusciano, 1780 : antropizzare : antropizzano, 1837 : stilettare : stilettano, 2020 : confidare : confidano, 2081 : espiare : espiano, 2114 : scristianizzare : scristianizzano, 2177 : azzimare : azzimano, 2188 : sprizzare : sprizzano, 2216 : riabbracciare : riabbracciano, 2290 : smallare : smallano, 2359 : biodegradare : biodegradano, 2418 : zincare : zincano, 2447 : smascellare : smascellano, 2514 : abbadare : abbadano, 2640 : acchiocciolare : acchiocciolano, 2666 : largheggiare : largheggiano, 2673 : insellare : insellano, 2827 : termostatare : termostatano, 2879 : micronizzare : micronizzano, 2975 : arrisicare : arrisicano, 3037 : somministrare : somministrano, 3164 : annasare : annasano, 3251 : stralciare : stralciano, 3286 : sventrare : sventrano, 3296 : disossare : disossano, 3347 : moraleggiare : moraleggiano, 3374 : balenare : balenano, 3434 : ciabattare : ciabattano, 3519 : penare : penano, 3623 : arrossare : arrossano, 3751 : riallungare : riallungano, 3979 : nidificare : nidificano, 3996 : abbozzare : abbozzano, 4131 : innestare : innestano, 4423 : racimolare : racimolano, 4564 : riciclare : riciclano, 4709 : avvantaggiare : avvantaggiano, 4819 : azionare : azionano, 4888 : frangiare : frangiano, 4921 : aviolanciare : aviolanciano, 5070 : tormentare : tormentano, 5148 : clivare : clivano, 5156 : radiocomandare : radiocomandano, 5160 : lacrimare : lacrimano, 5211 : rinfiammare : rinfiammano, 5313 : duramificare : duramificano, 5322 : emendare : emendano, 5397 : traversare : traversano, 5403 : gasare : gasano, 5430 : sgarrare : sgarrano, 5513 : acciaiare : acciaiano, 5682 : lanciare : lanciano, 5825 : spiare : spiano, 5956 : massimizzare : massimizzano, 5965 : vacuolizzare : vacuolizzano, 5968 : azzannare : azzannano, 6004 : noiare : noiano, 6071 : riplasmare : riplasmano, 6216 : cullare : cullano, 6253 : rintasare : rintasano, 6326 : imbullonare : imbullonano, 6494 : ciulare : ciulano, 6650 : quantificare : quantificano, 6674 : solubilizzare : solubilizzano, 6867 : bannare : bannano, 7030 : archeggiare : archeggiano, 7039 : radicaleggiare : radicaleggiano, 7084 : eiettare : eiettano, 7086 : intorbidare : intorbidano, 7134 : sviare : sviano, 7274 : trasformare : trasformano, 7420 : piagare : piagano, 7526 : arcaizzare : arcaizzano, 7547 : denigrare : denigrano, 7579 : intercettare : intercettano, 7706 : rietichettare : rietichettano, 7916 : spezzonare : spezzonano, 8030 : brogliare : brogliano, 8272 : cifrare : cifrano, 8283 : rastrellare : rastrellano, 8315 : monitorare : monitorano, 8374 : pullulare : pullulano, 8401 : arbitrare : arbitrano, 8457 : gelificare : gelificano, 8675 : boicottare : boicottano, 8874 : falciare : falciano, 8893 : quietare : quietano, 8907 : intimare : intimano, 8947 : riabbonare : riabbonano, 9148 : detestare : detestano, 9153 : vendicchiare : vendicchiano, 9528 : frollare : frollano, 9586 : valutare : valutano, 9608 : menstruare : menstruano, 9759 : inchiavardare : inchiavardano, 10041 : immunizzare : immunizzano, 10121 : necrosare : necrosano, 10142 : preparare : preparano, 10261 : ferrare : ferrano, 10325 : sviticchiare : sviticchiano, 10385 : igienizzare : igienizzano, 10401 : mulinare : mulinano, 10507 : proclamare : proclamano, 10619 : spalcare : spalcano, 10671 : impostare : impostano, 10712 : slabbrare : slabbrano, 10867 : ramificare : ramificano, 10919 : menare : menano, 10951 : gramolare : gramolano, 11098 : rasare : rasano, 11169 : rioccupare : rioccupano, 11229 : scalcinare : scalcinano, 11276 : allampanare : allampanano, 11295 : somigliare : somigliano, 11352 : casualizzare : casualizzano, 11353 : affumigare : affumigano, 11382 : cappottare : cappottano, 11463 : vigoreggiare : vigoreggiano, 11464 : allascare : allascano, 11575 : toccare : toccano, 11625 : telegrafare : telegrafano, 11674 : glorificare : glorificano, 11809 : sfigurare : sfigurano, 11822 : ricristallizzare : ricristallizzano, 11843 : stiracchiare : stiracchiano, 11864 : zinnare : zinnano, 11907 : apparigliare : apparigliano, 11937 : significare : significano\n",
      "\n",
      "frequency: 40, coverage: 0.1568627450980392, accuracy: 1.0\n",
      "unmasekd_pattern:  c1 a r s i --> si   c1 a n o\n",
      "frequency by pattern:  {'c1 a r s i --> f0_0 f2_0 c1 f2_1 f3_0 f4_0': 40}\n",
      "alignments and masks for the most frequent masked pattern:\n",
      "\n",
      "___mask2src_after_unmasking: c1: average length of 6.8\n",
      "\n",
      "___trg2mask_after_unmasking (support 1): si:f0_0,  :f2_0, a:f2_1, n:f3_0, o:f4_0\n",
      "\n",
      "___mask2trg_after_unmasking: c1: average length of 6.8\n",
      "\n",
      "IDs: 232 : impaperarsi : si impaperano, 294 : inguaiarsi : si inguaiano, 607 : destabilizzarsi : si destabilizzano, 701 : lesionarsi : si lesionano, 948 : dilaniarsi : si dilaniano, 1039 : sfarinarsi : si sfarinano, 1122 : schiacciarsi : si schiacciano, 1997 : avviarsi : si avviano, 2044 : surrogarsi : si surrogano, 2251 : circondarsi : si circondano, 2463 : individuarsi : si individuano, 3302 : rimbeccarsi : si rimbeccano, 4003 : impolverarsi : si impolverano, 4297 : aggrondarsi : si aggrondano, 4682 : autodenunciarsi : si autodenunciano, 4862 : approssimarsi : si approssimano, 5702 : incriminarsi : si incriminano, 6149 : discolparsi : si discolpano, 6715 : informarsi : si informano, 7163 : scagionarsi : si scagionano, 7318 : portarsi : si portano, 7337 : giostrarsi : si giostrano, 7418 : situarsi : si situano, 7653 : riputarsi : si riputano, 7732 : collocarsi : si collocano, 7884 : sfiorarsi : si sfiorano, 7968 : prepararsi : si preparano, 8507 : scaldarsi : si scaldano, 8727 : radicarsi : si radicano, 8993 : impantanarsi : si impantanano, 9138 : asfissiarsi : si asfissiano, 9156 : affrancarsi : si affrancano, 9187 : riavviarsi : si riavviano, 9249 : presentarsi : si presentano, 9476 : robotizzarsi : si robotizzano, 10462 : riabilitarsi : si riabilitano, 10581 : sciacquarsi : si sciacquano, 11144 : immedesimarsi : si immedesimano, 11251 : accamparsi : si accampano, 11932 : accordarsi : si accordano\n",
      "\n",
      "frequency: 23, coverage: 0.09019607843137255, accuracy: 1.0\n",
      "unmasekd_pattern:  c1 e r e --> c1 o n o\n",
      "frequency by pattern:  {'c1 e r e --> c1 f1_0 f3_0 f4_0': 23}\n",
      "alignments and masks for the most frequent masked pattern:\n",
      "\n",
      "___mask2src_after_unmasking: c1: average length of 7.1\n",
      "\n",
      "___trg2mask_after_unmasking (support 1): o:f4_0, n:f3_0\n",
      "\n",
      "___mask2trg_after_unmasking: c1: average length of 7.1\n",
      "\n",
      "IDs: 696 : scontorcere : scontorcono, 1344 : televedere : televedono, 1572 : dispromettere : dispromettono, 1594 : competere : competono, 3169 : perdere : perdono, 3425 : sovrintendere : sovrintendono, 3542 : fraintendere : fraintendono, 3847 : riprendere : riprendono, 3964 : astringere : astringono, 4798 : detorcere : detorcono, 4913 : radioassistere : radioassistono, 5421 : sumere : sumono, 5964 : apprendere : apprendono, 6995 : omettere : omettono, 8184 : ommettere : ommettono, 8616 : svendere : svendono, 8724 : disascondere : disascondono, 8746 : sorprendere : sorprendono, 9862 : adempiere : adempiono, 10716 : profondere : profondono, 11186 : destruggere : destruggono, 11292 : soprascrivere : soprascrivono, 11347 : fremere : fremono\n",
      "\n",
      "frequency: 16, coverage: 0.06274509803921569, accuracy: 1.0\n",
      "unmasekd_pattern:  c1 r e --> c1 s c o n o\n",
      "frequency by pattern:  {'c1 r e --> c1 f3_0 f4_0 f1_0 f3_1 f4_1': 16}\n",
      "alignments and masks for the most frequent masked pattern:\n",
      "\n",
      "___mask2src_after_unmasking: c1: average length of 7.3\n",
      "\n",
      "___trg2mask_after_unmasking (support 1): s:f3_0, c:f4_0, o:f4_1, n:f3_1\n",
      "\n",
      "___mask2trg_after_unmasking: c1: average length of 7.3\n",
      "\n",
      "IDs: 84 : scolorire : scoloriscono, 576 : accanire : accaniscono, 903 : inzotichire : inzotichiscono, 2662 : arguire : arguiscono, 3397 : incancherire : incancheriscono, 3798 : infarcire : infarciscono, 4714 : circonfluire : circonfluiscono, 5840 : infrollire : infrolliscono, 5979 : smarrire : smarriscono, 6128 : premonire : premoniscono, 6414 : schermire : schermiscono, 7644 : retroagire : retroagiscono, 7778 : imbianchire : imbianchiscono, 10234 : accudire : accudiscono, 10675 : spartire : spartiscono, 10802 : supplire : suppliscono\n",
      "\n",
      "frequency: 7, coverage: 0.027450980392156862, accuracy: 1.0\n",
      "unmasekd_pattern:  c1 r s i --> si   c1 s c o n o\n",
      "frequency by pattern:  {'c1 r s i --> f0_0 f2_0 c1 f3_0 f4_0 f1_0 f3_1 f4_1': 7}\n",
      "alignments and masks for the most frequent masked pattern:\n",
      "\n",
      "___mask2src_after_unmasking: c1: average length of 7.9\n",
      "\n",
      "___trg2mask_after_unmasking (support 1): si:f0_0,  :f2_0, s:f3_0, c:f4_0, o:f4_1, n:f3_1\n",
      "\n",
      "___mask2trg_after_unmasking: c1: average length of 7.9\n",
      "\n",
      "IDs: 2199 : reinserirsi : si reinseriscono, 4403 : ostruirsi : si ostruiscono, 6042 : inferocirsi : si inferociscono, 8217 : spazientirsi : si spazientiscono, 8928 : invaghirsi : si invaghiscono, 9331 : prostituirsi : si prostituiscono, 11455 : trasferirsi : si trasferiscono\n",
      "\n",
      "frequency: 5, coverage: 0.0196078431372549, accuracy: 1.0\n",
      "unmasekd_pattern:  c1 e r s i --> si   c1 o n o\n",
      "frequency by pattern:  {'c1 e r s i --> f0_0 f2_0 c1 f1_0 f3_0 f4_0': 5}\n",
      "alignments and masks for the most frequent masked pattern:\n",
      "\n",
      "___mask2src_after_unmasking: c1: average length of 7.0\n",
      "\n",
      "___trg2mask_after_unmasking (support 1): si:f0_0,  :f2_0, o:f4_0, n:f3_0\n",
      "\n",
      "___mask2trg_after_unmasking: c1: average length of 7.0\n",
      "\n",
      "IDs: 2648 : cospargersi : si cospargono, 3762 : proteggersi : si proteggono, 4390 : diffrangersi : si diffrangono, 11832 : raggiungersi : si raggiungono, 11840 : assumersi : si assumono\n",
      "\n",
      "frequency: 2, coverage: 0.00784313725490196, accuracy: 1.0\n",
      "unmasekd_pattern:  c1 g e r e --> c1 g o n o\n",
      "frequency by pattern:  {'c1 g e r e --> c1 f4_0 f1_0 f3_0 f4_1': 2}\n",
      "alignments and masks for the most frequent masked pattern:\n",
      "\n",
      "___mask2src_after_unmasking: c1: all of length 4\n",
      "\n",
      "___trg2mask_after_unmasking (support 1): g:f4_0, o:f4_1, n:f3_0\n",
      "\n",
      "___mask2trg_after_unmasking: c1: all of length 4\n",
      "\n",
      "IDs: 2716 : scingere : scingono, 4979 : emungere : emungono\n",
      "\n",
      "frequency: 2, coverage: 0.00784313725490196, accuracy: 1.0\n",
      "unmasekd_pattern:  c1 e r e --> c1 g o n o\n",
      "frequency by pattern:  {'c1 e r e --> c1 f4_0 f1_0 f3_0 f4_1': 2}\n",
      "alignments and masks for the most frequent masked pattern:\n",
      "\n",
      "___mask2src_after_unmasking: c1: all of length 6\n",
      "\n",
      "___trg2mask_after_unmasking (support 1): g:f4_0, o:f4_1, n:f3_0\n",
      "\n",
      "___mask2trg_after_unmasking: c1: all of length 6\n",
      "\n",
      "IDs: 9380 : disvalere : disvalgono, 9454 : pertenere : pertengono\n",
      "\n",
      "frequency: 1, coverage: 0.00392156862745098, accuracy: 1.0\n",
      "unmasekd_pattern:  riotten e r e --> riotten g o n o\n",
      "frequency by pattern:  {'c1 e r e --> c1 f0_0 f1_0 f3_0 f4_0': 1}\n",
      "alignments and masks for the most frequent masked pattern:\n",
      "\n",
      "___src2mask_after_unmasking (support 1): riotten:c1\n",
      "\n",
      "___trg2mask_after_unmasking (support 1): riotten:c1, g:f0_0, o:f4_0, n:f3_0\n",
      "\n",
      "IDs: 209 : riottenere : riottengono\n",
      "\n",
      "frequency: 1, coverage: 0.00392156862745098, accuracy: 0.0\n",
      "unmasekd_pattern:  riromp e r e --> riromp e n o\n",
      "frequency by pattern:  {'c1 e r e --> c1 f0_0 f3_0 f4_0': 1}\n",
      "alignments and masks for the most frequent masked pattern:\n",
      "\n",
      "___src2mask_after_unmasking (support 1): riromp:c1\n",
      "\n",
      "___trg2mask_after_unmasking (support 1): riromp:c1, e:f0_0, n:f3_0, o:f4_0\n",
      "\n",
      "IDs: 267 : rirompere : rirompeno(gold: rirompono)\n",
      "\n",
      "frequency: 1, coverage: 0.00392156862745098, accuracy: 1.0\n",
      "unmasekd_pattern:  add a r s i --> si   add an n o\n",
      "frequency by pattern:  {'c1 a r s i --> f0_0 f2_0 c1 f4_0 f3_0 f4_1': 1}\n",
      "alignments and masks for the most frequent masked pattern:\n",
      "\n",
      "___src2mask_after_unmasking (support 1): add:c1\n",
      "\n",
      "___trg2mask_after_unmasking (support 1): si:f0_0,  :f2_0, add:c1, an:f4_0, n:f3_0, o:f4_1\n",
      "\n",
      "IDs: 1304 : addarsi : si addanno\n",
      "\n",
      "frequency: 1, coverage: 0.00392156862745098, accuracy: 1.0\n",
      "unmasekd_pattern:  sent i r s i --> si   sent o n o\n",
      "frequency by pattern:  {'c1 g1 r s i --> f0_0 f2_0 c1 g1 f3_0 f4_0': 1}\n",
      "alignments and masks for the most frequent masked pattern:\n",
      "\n",
      "___src2mask_after_unmasking (support 1): sent:c1, i:g1\n",
      "\n",
      "___trg2mask_after_unmasking (support 1): si:f0_0,  :f2_0, sent:c1, o:f4_0, n:f3_0\n",
      "\n",
      "IDs: 1908 : sentirsi : si sentono\n",
      "\n",
      "frequency: 1, coverage: 0.00392156862745098, accuracy: 1.0\n",
      "unmasekd_pattern:  da r s i --> si   da nn o\n",
      "frequency by pattern:  {'c1 r s i --> f0_0 f2_0 c1 f3_0 f4_0': 1}\n",
      "alignments and masks for the most frequent masked pattern:\n",
      "\n",
      "___src2mask_after_unmasking (support 1): da:c1\n",
      "\n",
      "___trg2mask_after_unmasking (support 1): si:f0_0,  :f2_0, da:c1, nn:f3_0, o:f4_0\n",
      "\n",
      "IDs: 1922 : darsi : si danno\n",
      "\n",
      "frequency: 1, coverage: 0.00392156862745098, accuracy: 1.0\n",
      "unmasekd_pattern:  serv i r e --> serv o n o\n",
      "frequency by pattern:  {'c1 i r e --> c1 f1_0 f3_0 f4_0': 1}\n",
      "alignments and masks for the most frequent masked pattern:\n",
      "\n",
      "___src2mask_after_unmasking (support 1): serv:c1\n",
      "\n",
      "___trg2mask_after_unmasking (support 1): serv:c1, o:f4_0, n:f3_0\n",
      "\n",
      "IDs: 7525 : servire : servono\n",
      "\n",
      "frequency: 1, coverage: 0.00392156862745098, accuracy: 1.0\n",
      "unmasekd_pattern:  espo r s i --> si   espo n g o n o\n",
      "frequency by pattern:  {'c1 g1 s i --> f0_0 f2_0 c1 g1 f4_0 f1_0 f3_0 f4_1': 1}\n",
      "alignments and masks for the most frequent masked pattern:\n",
      "\n",
      "___src2mask_after_unmasking (support 1): espo:c1, r:g1\n",
      "\n",
      "___trg2mask_after_unmasking (support 1): si:f0_0,  :f2_0, espo:c1, n:f3_0, g:f4_0, o:f4_1\n",
      "\n",
      "IDs: 7914 : esporsi : si espongono\n",
      "\n"
     ]
    }
   ],
   "source": [
    "attn_data = []\n",
    "for f in attn_files:\n",
    "    attn_data.extend(torch.load(f))\n",
    "\n",
    "phen_msd = 'V;IND;PRS;3;PL' \n",
    "    \n",
    "pattern_list = data2patterns(attn_data, allow_double_al=False)\n",
    "phen_dict_regr, phen_dict_regr_freq, phen_dict_regr_acc = msd2pattern(phen_msd,\n",
    "                                                                      attn_data,pattern_list,gold_files)\n",
    "\n",
    "print_frequent_patterns(phen_msd, phen_dict_regr, \n",
    "                            phen_dict_regr_freq, phen_dict_regr_acc, n=15)"
   ]
  },
  {
   "cell_type": "markdown",
   "metadata": {},
   "source": [
    "#### Lemma Patterns "
   ]
  },
  {
   "cell_type": "code",
   "execution_count": 4,
   "metadata": {},
   "outputs": [
    {
     "name": "stdout",
     "output_type": "stream",
     "text": [
      "Form ends on scono\n",
      "class:phen, acc: 1.0, freq: 23\n",
      "*re:9/1.0\n",
      "(903:in|z|o|ti|chi|re, 3798:inf|ar|ci|re, 5840:inf|r|ol|li|re, 5979:s|mar|ri|re, 6414:sch|er|mi|re, 7778:im|bi|an|chi|re, 10234:ac|cu|di|re, 10675:s|parti|re, 10802:su|pp|li|re)\n",
      "*ire:7/1.0\n",
      "(84:s|col|or|ire, 576:ac|can|ire, 2662:ar|gu|ire, 3397:in|can|ch|er|ire, 4714:cir|con|f|lu|ire, 6128:pre|mon|ire, 7644:re|tro|ag|ire)\n",
      "*ir*:6/1.0\n",
      "(2199:re|in|ser|ir|si, 4403:ost|ru|ir|si, 8217:sp|az|i|ent|ir|si, 8928:in|v|ag|h|ir|si, 9331:pro|st|itu|ir|si, 11455:tras|fer|ir|si)\n",
      "*cir*:1/1.0\n",
      "(6042:in|fer|o|cir|si)\n",
      "*re:9/1.0 (903:in|z|o|ti|chi|re), *ire:7/1.0 (84:s|col|or|ire), *ir*:6/1.0 (2199:re|in|ser|ir|si), *cir*:1/1.0 (6042:in|fer|o|cir|si), \n",
      "\n",
      "\n",
      "\n",
      "Form ends on ano\n",
      "class:phen, acc: 1.0, freq: 189\n",
      "*are:149/1.0\n",
      "(184:z|am|pic|are, 316:c|ro|gi|ol|are, 490:im|pi|o|mb|are, 491:si|bil|are, 497:au|re|ol|are, 510:c|ro|ss|are, 653:u|g|gi|ol|are, 728:att|ov|ag|li|are, 836:rag|gu|ag|li|are, 861:att|iv|are)\n",
      "*arsi:26/1.0\n",
      "(232:im|pa|per|arsi, 294:in|gu|ai|arsi, 701:le|s|ion|arsi, 1039:s|f|ar|in|arsi, 1122:s|chi|acci|arsi, 1997:av|vi|arsi, 2044:su|r|ro|g|arsi, 2251:cir|con|d|arsi, 2463:in|divi|du|arsi, 4003:im|pol|ver|arsi)\n",
      "*car*:3/1.0\n",
      "(3302:ri|mb|ec|car|si, 8727:ra|di|car|si, 9156:aff|ran|car|si)\n",
      "*izzarsi:2/1.0\n",
      "(607:dest|abil|izz|arsi, 9476:ro|bo|t|izz|arsi)\n",
      "*iarsi:2/1.0\n",
      "(948:di|lan|i|arsi, 9138:as|fi|ss|i|arsi)\n",
      "*par*:2/1.0\n",
      "(6149:dis|col|par|si, 11251:ac|cam|par|si)\n",
      "*ciarsi:1/1.0\n",
      "(4682:au|to|den|un|ci|arsi)\n",
      "*mar*:1/1.0\n",
      "(6715:in|for|mar|si)\n",
      "*rarsi:1/1.0\n",
      "(7337:gi|ost|r|arsi)\n",
      "*itarsi:1/1.0\n",
      "(10462:ri|abil|it|arsi)\n",
      "*quar*:1/1.0\n",
      "(10581:sci|ac|quar|si)\n",
      "*are:149/1.0 (184:z|am|pic|are), *arsi:26/1.0 (232:im|pa|per|arsi), *car*:3/1.0 (3302:ri|mb|ec|car|si), *izzarsi:2/1.0 (607:dest|abil|izz|arsi), *iarsi:2/1.0 (948:di|lan|i|arsi), *par*:2/1.0 (6149:dis|col|par|si), *ciarsi:1/1.0 (4682:au|to|den|un|ci|arsi), *mar*:1/1.0 (6715:in|for|mar|si), *rarsi:1/1.0 (7337:gi|ost|r|arsi), *itarsi:1/1.0 (10462:ri|abil|it|arsi), *quar*:1/1.0 (10581:sci|ac|quar|si), \n",
      "\n",
      "Form ends on ono\n",
      "class:phen, acc: 0.9512195121951219, freq: 41\n",
      "*ere:19/0.9473684210526315\n",
      "(209:ri|otten|ere, 696:scon|tor|c|ere, 1572:dis|pro|me|tt|ere, 1594:com|pe|t|ere, 2716:sc|ing|ere, 3964:ast|r|ing|ere, 4798:de|tor|c|ere, 4913:ra|di|o|ass|ist|ere, 4979:em|ung|ere, 5421:su|m|ere)\n",
      "*dere:10/1.0\n",
      "(1344:te|le|ve|dere, 3169:per|dere, 3425:so|v|rin|ten|dere, 3542:f|ra|in|ten|dere, 3847:ri|pren|dere, 5964:app|ren|dere, 8616:s|ven|dere, 8724:dis|as|con|dere, 8746:sor|pren|dere, 10716:pro|fon|dere)\n",
      "*ger*:3/1.0\n",
      "(2648:cos|par|ger|si, 3762:pro|te|g|ger|si, 4390:di|ff|ran|ger|si)\n",
      "*re:3/1.0\n",
      "(7525:servi|re, 8294:fo|to|comp|or|re, 10134:ri|p|or|re)\n",
      "*e:1/0.0\n",
      "(267:ri|ro|m|per|e)\n",
      "*ir*:1/1.0\n",
      "(1908:s|ent|ir|si)\n",
      "*si:1/1.0\n",
      "(7914:es|p|or|si)\n",
      "*ire:1/1.0\n",
      "(8706:ri|di|ven|ire)\n",
      "*er*:1/1.0\n",
      "(11832:r|aggi|ung|er|si)\n",
      "*mer*:1/1.0\n",
      "(11840:ass|u|mer|si)\n",
      "*ere:19/0.9473684210526315 (209:ri|otten|ere), *dere:10/1.0 (1344:te|le|ve|dere), *ger*:3/1.0 (2648:cos|par|ger|si), *re:3/1.0 (7525:servi|re), *e:1/0.0 (267:ri|ro|m|per|e), *ir*:1/1.0 (1908:s|ent|ir|si), *si:1/1.0 (7914:es|p|or|si), *ire:1/1.0 (8706:ri|di|ven|ire), *er*:1/1.0 (11832:r|aggi|ung|er|si), *mer*:1/1.0 (11840:ass|u|mer|si), \n"
     ]
    }
   ],
   "source": [
    "attn_data = []\n",
    "for f in attn_files:\n",
    "    attn_data.extend(torch.load(f))\n",
    "\n",
    "print('Form ends on scono')\n",
    "partial_trg = 'scono'\n",
    "partial_msd = 'V;IND;PRS;3;PL'\n",
    "\n",
    "phen_dict = msd2decision(partial_msd,partial_trg,attn_data,\n",
    "                         gold_files,bpe_files,pattern='end',\n",
    "                         n_global_heads=1,pull_max=False,ave_threshold=False)\n",
    "for k,v in phen_dict.items():\n",
    "    if k=='phen':\n",
    "        print('class:{}, acc: {}, freq: {}'.format(k,\n",
    "                                               v['acc']/v['freq'], v['freq']))\n",
    "        str_out=''\n",
    "        for p,f in sorted(v['pat'].items(), key=lambda x:x[1]['freq'], reverse=True):\n",
    "            if f['freq']>=1:\n",
    "                print('{}:{}/{}'.format(p,f['freq'],f['acc']/f['freq']))\n",
    "                print('({})'.format(', '.join(f['ex'][:10])))\n",
    "                str_out+='{}:{}/{} ({}), '.format(p,f['freq'],f['acc']/f['freq'],f['ex'][0])\n",
    "\n",
    "print(str_out)\n",
    "\n",
    "print()\n",
    "print()\n",
    "print('\\nForm ends on ano')\n",
    "partial_trg = 'ano'\n",
    "partial_msd = 'V;IND;PRS;3;PL'\n",
    "\n",
    "phen_dict = msd2decision(partial_msd,partial_trg,attn_data,\n",
    "                         gold_files,bpe_files,pattern='end',\n",
    "                         n_global_heads=1,pull_max=False,ave_threshold=False)\n",
    "for k,v in phen_dict.items():\n",
    "    if k=='phen':\n",
    "        print('class:{}, acc: {}, freq: {}'.format(k,\n",
    "                                               v['acc']/v['freq'], v['freq']))\n",
    "        str_out=''\n",
    "        for p,f in sorted(v['pat'].items(), key=lambda x:x[1]['freq'], reverse=True):\n",
    "            if f['freq']>=1:\n",
    "                print('{}:{}/{}'.format(p,f['freq'],f['acc']/f['freq']))\n",
    "                print('({})'.format(', '.join(f['ex'][:10])))\n",
    "                str_out+='{}:{}/{} ({}), '.format(p,f['freq'],f['acc']/f['freq'],f['ex'][0])\n",
    "\n",
    "print(str_out)\n",
    "\n",
    "print('\\nForm ends on ono')\n",
    "partial_trg = 'ono'\n",
    "partial_trg_1 = 'scono'\n",
    "partial_msd = 'V;IND;PRS;3;PL'\n",
    "\n",
    "phen_dict = msd2decision(partial_msd,partial_trg,attn_data,\n",
    "                         gold_files,bpe_files,pattern='end',\n",
    "                         n_global_heads=1,pull_max=False,ave_threshold=False,\n",
    "                        partial_trg_1=partial_trg_1, pattern_1='not_end')\n",
    "for k,v in phen_dict.items():\n",
    "    if k=='phen':\n",
    "        print('class:{}, acc: {}, freq: {}'.format(k,\n",
    "                                               v['acc']/v['freq'], v['freq']))\n",
    "        str_out=''\n",
    "        for p,f in sorted(v['pat'].items(), key=lambda x:x[1]['freq'], reverse=True):\n",
    "            if f['freq']>=1:\n",
    "                print('{}:{}/{}'.format(p,f['freq'],f['acc']/f['freq']))\n",
    "                print('({})'.format(', '.join(f['ex'][:10])))\n",
    "                str_out+='{}:{}/{} ({}), '.format(p,f['freq'],f['acc']/f['freq'],f['ex'][0])\n",
    "\n",
    "print(str_out)"
   ]
  },
  {
   "cell_type": "markdown",
   "metadata": {},
   "source": [
    "### Attention visualization examples"
   ]
  },
  {
   "cell_type": "markdown",
   "metadata": {},
   "source": [
    "#### chED model"
   ]
  },
  {
   "cell_type": "code",
   "execution_count": 6,
   "metadata": {},
   "outputs": [
    {
     "data": {
      "image/png": "[encoded data removed]",
      "text/plain": [
       "<Figure size 576x576 with 1 Axes>"
      ]
     },
     "metadata": {
      "needs_background": "light"
     },
     "output_type": "display_data"
    },
    {
     "data": {
      "image/png": "[encoded data removed]",
      "text/plain": [
       "<Figure size 576x576 with 1 Axes>"
      ]
     },
     "metadata": {
      "needs_background": "light"
     },
     "output_type": "display_data"
    }
   ],
   "source": [
    "attn_file='{}/{}/ch/gate-sparse-models/predict/{}-dev.pred.{}.attn'.format(exp_dir,lang,lang,beam_size)\n",
    "\n",
    "attn_data=torch.load(attn_file)\n",
    "\n",
    "scaled_al_heatmap(attn_data,84)\n",
    "\n",
    "scaled_al_heatmap(attn_data,15)"
   ]
  },
  {
   "cell_type": "markdown",
   "metadata": {},
   "source": [
    "#### chED+chSELF-ATT"
   ]
  },
  {
   "cell_type": "code",
   "execution_count": 7,
   "metadata": {},
   "outputs": [
    {
     "data": {
      "image/png": "[encoded data removed]",
      "text/plain": [
       "<Figure size 576x576 with 1 Axes>"
      ]
     },
     "metadata": {
      "needs_background": "light"
     },
     "output_type": "display_data"
    },
    {
     "data": {
      "image/png": "[encoded data removed]",
      "text/plain": [
       "<Figure size 576x576 with 1 Axes>"
      ]
     },
     "metadata": {
      "needs_background": "light"
     },
     "output_type": "display_data"
    }
   ],
   "source": [
    "attn_file='{}/{}/ch/gate-sparse-enc-static-head-models/predict/{}-dev.pred.{}.attn'.format(\n",
    "    exp_dir,lang,lang,beam_size)\n",
    "\n",
    "attn_ggh_data=torch.load(attn_file)\n",
    "unscaled_al_ggh_heatmap(attn_ggh_data,84,n_global_heads=1)\n",
    "scaled_al_ggh_heatmap(attn_ggh_data,15,n_global_heads=1)"
   ]
  },
  {
   "cell_type": "markdown",
   "metadata": {},
   "source": [
    "#### chED+subwSELF-ATT"
   ]
  },
  {
   "cell_type": "code",
   "execution_count": 8,
   "metadata": {},
   "outputs": [
    {
     "data": {
      "image/png": "[encoded data removed]",
      "text/plain": [
       "<Figure size 576x576 with 1 Axes>"
      ]
     },
     "metadata": {
      "needs_background": "light"
     },
     "output_type": "display_data"
    },
    {
     "data": {
      "image/png": "[encoded data removed]",
      "text/plain": [
       "<Figure size 216x216 with 1 Axes>"
      ]
     },
     "metadata": {
      "needs_background": "light"
     },
     "output_type": "display_data"
    },
    {
     "data": {
      "image/png": "[encoded data removed]",
      "text/plain": [
       "<Figure size 576x576 with 1 Axes>"
      ]
     },
     "metadata": {
      "needs_background": "light"
     },
     "output_type": "display_data"
    },
    {
     "data": {
      "image/png": "[encoded data removed]",
      "text/plain": [
       "<Figure size 216x216 with 1 Axes>"
      ]
     },
     "metadata": {
      "needs_background": "light"
     },
     "output_type": "display_data"
    }
   ],
   "source": [
    "attn_file='{}/{}/bpe{}/gate-sparse-enc-static-head-models/predict/{}-dev.pred.{}.attn'.format(\n",
    "    exp_dir,lang,bpe_n,lang,beam_size)\n",
    "\n",
    "attn_ggh_bpe_data_comb=torch.load(attn_file)\n",
    "scaled_al_ggh_heatmap(attn_ggh_bpe_data_comb,84, bpe=True, bpe_data=bpe_file_dev, n_global_heads=1)\n",
    "\n",
    "attn_file='{}/{}/bpe{}/gate-sparse-enc-static-head-models/predict/{}-train-high.pred.{}.attn'.format(\n",
    "    exp_dir,lang,bpe_n,lang,beam_size)\n",
    "\n",
    "attn_ggh_bpe_data_comb=torch.load(attn_file)\n",
    "scaled_al_ggh_heatmap(attn_ggh_bpe_data_comb,7272, bpe=True, bpe_data=bpe_file_train, n_global_heads=1)\n",
    "\n"
   ]
  },
  {
   "cell_type": "code",
   "execution_count": null,
   "metadata": {},
   "outputs": [],
   "source": []
  }
 ],
 "metadata": {
  "kernelspec": {
   "display_name": "Python 3",
   "language": "python",
   "name": "python3"
  },
  "language_info": {
   "codemirror_mode": {
    "name": "ipython",
    "version": 3
   },
   "file_extension": ".py",
   "mimetype": "text/x-python",
   "name": "python",
   "nbconvert_exporter": "python",
   "pygments_lexer": "ipython3",
   "version": "3.6.9"
  }
 },
 "nbformat": 4,
 "nbformat_minor": 4
}
